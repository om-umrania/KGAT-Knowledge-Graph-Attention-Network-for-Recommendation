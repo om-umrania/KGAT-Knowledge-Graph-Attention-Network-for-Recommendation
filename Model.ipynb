{
 "cells": [
  {
   "cell_type": "markdown",
   "metadata": {},
   "source": [
    "# Load and Prepare Data"
   ]
  },
  {
   "cell_type": "code",
   "execution_count": null,
   "metadata": {},
   "outputs": [],
   "source": [
    "import pandas as pd\n",
    "\n",
    "# Load synthetic data\n",
    "interactions_df = pd.read_csv('synthetic_user_item_interactions_multimedia.csv')\n",
    "item_attributes_df = pd.read_csv('synthetic_item_attributes_multimedia.csv')\n",
    "kg_relations_df = pd.read_csv('synthetic_knowledge_graph_relations_multimedia.csv')\n",
    "\n",
    "# Display the first few rows of each DataFrame to ensure data is loaded correctly\n",
    "print(\"User-Item Interactions:\")\n",
    "print(interactions_df.head())\n",
    "\n",
    "print(\"\\nItem-Attribute Relationships:\")\n",
    "print(item_attributes_df.head())\n",
    "\n",
    "print(\"\\nKnowledge Graph Relations:\")\n",
    "print(kg_relations_df.head())\n"
   ]
  },
  {
   "cell_type": "markdown",
   "metadata": {},
   "source": [
    "# Preprocess Data for GNN/GAT"
   ]
  },
  {
   "cell_type": "code",
   "execution_count": null,
   "metadata": {},
   "outputs": [],
   "source": [
    "import networkx as nx\n",
    "import numpy as np\n",
    "import torch\n",
    "from torch_geometric.data import Data\n",
    "from torch_geometric.utils import from_networkx\n",
    "\n",
    "# Convert user-item interactions to a graph\n",
    "G = nx.Graph()\n",
    "\n",
    "# Add edges for user-item interactions\n",
    "for index, row in interactions_df.iterrows():\n",
    "    user_id = f\"user_{row['user_id']}\"\n",
    "    item_id = f\"item_{row['item_id']}\"\n",
    "    G.add_edge(user_id, item_id)\n",
    "\n",
    "# Add edges for item-attribute relationships\n",
    "for index, row in item_attributes_df.iterrows():\n",
    "    item_id = f\"item_{row['item_id']}\"\n",
    "    attribute_id = f\"attr_{row['attribute_id']}\"\n",
    "    G.add_edge(item_id, attribute_id)\n",
    "\n",
    "# Add edges for knowledge graph relationships\n",
    "for index, row in kg_relations_df.iterrows():\n",
    "    item_id = f\"item_{row['item_id']}\"\n",
    "    related_item_id = f\"item_{row['related_item_id']}\"\n",
    "    G.add_edge(item_id, related_item_id)\n",
    "\n",
    "# Convert the NetworkX graph to PyTorch Geometric Data object\n",
    "data = from_networkx(G)\n",
    "\n",
    "# Display the PyTorch Geometric Data object\n",
    "print(data)\n"
   ]
  },
  {
   "cell_type": "markdown",
   "metadata": {},
   "source": [
    "# Build the KGAT Model Using GNN and GAT"
   ]
  },
  {
   "cell_type": "code",
   "execution_count": null,
   "metadata": {},
   "outputs": [],
   "source": [
    "import torch.nn.functional as F\n",
    "from torch_geometric.nn import GATConv, GCNConv\n",
    "\n",
    "class KGAT(torch.nn.Module):\n",
    "    def __init__(self, num_node_features, hidden_channels, num_classes):\n",
    "        super(KGAT, self).__init__()\n",
    "        self.conv1 = GCNConv(num_node_features, hidden_channels)\n",
    "        self.conv2 = GATConv(hidden_channels, hidden_channels)\n",
    "        self.conv3 = GATConv(hidden_channels, num_classes)\n",
    "\n",
    "    def forward(self, data):\n",
    "        x, edge_index = data.x, data.edge_index\n",
    "\n",
    "        # First GCN layer\n",
    "        x = self.conv1(x, edge_index)\n",
    "        x = F.relu(x)\n",
    "\n",
    "        # Two GAT layers\n",
    "        x = self.conv2(x, edge_index)\n",
    "        x = F.relu(x)\n",
    "        x = self.conv3(x, edge_index)\n",
    "\n",
    "        return F.log_softmax(x, dim=1)\n",
    "\n",
    "# Initialize the model, define the loss and optimizer\n",
    "model = KGAT(num_node_features=data.num_node_features, hidden_channels=16, num_classes=2)\n",
    "optimizer = torch.optim.Adam(model.parameters(), lr=0.01, weight_decay=5e-4)\n",
    "criterion = torch.nn.CrossEntropyLoss()\n"
   ]
  },
  {
   "cell_type": "markdown",
   "metadata": {},
   "source": [
    "# Train the Model"
   ]
  },
  {
   "cell_type": "code",
   "execution_count": null,
   "metadata": {},
   "outputs": [],
   "source": [
    "def train():\n",
    "    model.train()\n",
    "    optimizer.zero_grad()\n",
    "    out = model(data)\n",
    "    loss = criterion(out[data.train_mask], data.y[data.train_mask])\n",
    "    loss.backward()\n",
    "    optimizer.step()\n",
    "    return loss.item()\n",
    "\n",
    "def test():\n",
    "    model.eval()\n",
    "    _, pred = model(data).max(dim=1)\n",
    "    correct = (pred[data.test_mask] == data.y[data.test_mask]).sum()\n",
    "    acc = int(correct) / int(data.test_mask.sum())\n",
    "    return acc\n",
    "\n",
    "# Training loop\n",
    "for epoch in range(1, 201):\n",
    "    loss = train()\n",
    "    if epoch % 10 == 0:\n",
    "        train_acc = test()\n",
    "        print(f'Epoch: {epoch}, Loss: {loss:.4f}, Test Acc: {train_acc:.4f}')\n"
   ]
  },
  {
   "cell_type": "markdown",
   "metadata": {},
   "source": [
    "# Visualization"
   ]
  },
  {
   "cell_type": "code",
   "execution_count": null,
   "metadata": {},
   "outputs": [],
   "source": [
    "import matplotlib.pyplot as plt\n",
    "from sklearn.manifold import TSNE\n",
    "\n",
    "# Extract embeddings from the last hidden layer\n",
    "model.eval()\n",
    "with torch.no_grad():\n",
    "    out = model(data)\n",
    "\n",
    "# Apply t-SNE for visualization\n",
    "z = TSNE(n_components=2).fit_transform(out.cpu().numpy())\n",
    "\n",
    "plt.figure(figsize=(10, 10))\n",
    "plt.scatter(z[:, 0], z[:, 1], s=70, c=data.y.cpu(), cmap=\"Set2\")\n",
    "plt.show()\n"
   ]
  }
 ],
 "metadata": {
  "language_info": {
   "name": "python"
  }
 },
 "nbformat": 4,
 "nbformat_minor": 2
}
